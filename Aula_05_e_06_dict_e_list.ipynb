{
  "nbformat": 4,
  "nbformat_minor": 0,
  "metadata": {
    "colab": {
      "name": "Aula 05 e 06 dict e list",
      "provenance": [],
      "authorship_tag": "ABX9TyP2nkEbMncbsR6UsP0uteIz",
      "include_colab_link": true
    },
    "kernelspec": {
      "name": "python3",
      "display_name": "Python 3"
    }
  },
  "cells": [
    {
      "cell_type": "markdown",
      "metadata": {
        "id": "view-in-github",
        "colab_type": "text"
      },
      "source": [
        "<a href=\"https://colab.research.google.com/github/FranSC08/repo02/blob/master/Aula_05_e_06_dict_e_list.ipynb\" target=\"_parent\"><img src=\"https://colab.research.google.com/assets/colab-badge.svg\" alt=\"Open In Colab\"/></a>"
      ]
    },
    {
      "cell_type": "code",
      "metadata": {
        "id": "X5ph4Nox2ZH5",
        "colab_type": "code",
        "colab": {}
      },
      "source": [
        ""
      ],
      "execution_count": null,
      "outputs": []
    },
    {
      "cell_type": "code",
      "metadata": {
        "id": "ZFKNOJiHVkYy",
        "colab_type": "code",
        "colab": {
          "base_uri": "https://localhost:8080/",
          "height": 136
        },
        "outputId": "481b1b52-0b05-41e6-ffc0-7cdff35c93da"
      },
      "source": [
        "#listas\n",
        "pessoas = [\n",
        "           ['joana', 24, 72, 1.95],\n",
        "           ['maria', 35, 60, 1.62],\n",
        "           ['giovana', 19, 55, 1.65]\n",
        "]\n",
        "\n",
        "idades = []\n",
        "pesos = []\n",
        "alturas = []\n",
        "\n",
        "for pessoas in pessoas:\n",
        "  idades.append(pessoas[1])\n",
        "  pesos.append(pessoas[2])\n",
        "  alturas.append(pessoas[3])\n",
        "\n",
        "\n",
        "print('Mais velho',max(idades))\n",
        "print('Mais novo',min(idades))\n",
        "print('Mais alto tem',max(alturas))\n",
        "print('Mais alto tem',min(alturas))\n",
        "print('A media vai ser de ,',sum(pesos)/len(pessoas))\n",
        "print('A media vai ser de ,',sum(alturas)/len(pessoas))\n",
        "print('A media vai ser de ,',sum(idades)/len(pessoas))\n",
        "\n",
        "\n",
        "\n",
        "\n",
        "\n"
      ],
      "execution_count": null,
      "outputs": [
        {
          "output_type": "stream",
          "text": [
            "Mais velho 35\n",
            "Mais novo 19\n",
            "Mais alto tem 1.95\n",
            "Mais alto tem 1.62\n",
            "A media vai ser de , 46.75\n",
            "A media vai ser de , 1.3050000000000002\n",
            "A media vai ser de , 19.5\n"
          ],
          "name": "stdout"
        }
      ]
    },
    {
      "cell_type": "code",
      "metadata": {
        "id": "VSvg2ajztiAE",
        "colab_type": "code",
        "colab": {
          "base_uri": "https://localhost:8080/",
          "height": 85
        },
        "outputId": "1d57c180-68e4-4104-9f99-3f3f76da4eed"
      },
      "source": [
        "#Solução 2\n",
        "pessoas = [\n",
        "    ['Edson', 49, 114, 1.76],\n",
        "    ['Maria', 35, 64, 1.62],\n",
        "    ['Jorge', 18, 95, 1.84],\n",
        "    ['Ana', 23, 48, 1.52]\n",
        "]\n",
        "\n",
        "quantidade = len(pessoas)\n",
        "valores = []\n",
        "\n",
        "for pessoa in pessoas: # aqui começa o laço de repetição\n",
        "    valores.insert(0, pessoa[1])\n",
        "    valores.append(pessoa[2])\n",
        "\n",
        "print('Maior......:', max(valores[:quantidade]))\n",
        "print('Menor......:', min(valores[:quantidade]))\n",
        "print('Média Idade:', sum(valores[:quantidade])/quantidade)\n",
        "print('Média Peso.:', sum(valores[quantidade:])/quantidade)"
      ],
      "execution_count": null,
      "outputs": [
        {
          "output_type": "stream",
          "text": [
            "Maior......: 49\n",
            "Menor......: 18\n",
            "Média Idade: 31.25\n",
            "Média Peso.: 80.25\n"
          ],
          "name": "stdout"
        }
      ]
    },
    {
      "cell_type": "code",
      "metadata": {
        "colab_type": "code",
        "id": "toenLVFEkJrm",
        "colab": {}
      },
      "source": [
        ""
      ],
      "execution_count": null,
      "outputs": []
    },
    {
      "cell_type": "code",
      "metadata": {
        "id": "tBj6XF3fek0B",
        "colab_type": "code",
        "colab": {
          "base_uri": "https://localhost:8080/",
          "height": 85
        },
        "outputId": "fb75f6a7-95b9-4039-8a69-9dc42f728ee5"
      },
      "source": [
        "pessoas = [\n",
        "    ['Edson', 49, 114, 1.76],\n",
        "    ['Maria', 35, 64, 1.62],\n",
        "    ['Jorge', 18, 95, 1.84],\n",
        "    ['Ana', 23, 48, 1.52]\n",
        "]\n",
        "\n",
        "idades = []\n",
        "pesos = []\n",
        "\n",
        "for pessoa in pessoas: # aqui começa o laço de repetição\n",
        "    idades.append(pessoa[1])\n",
        "    pesos.append(pessoa[2])\n",
        "\n",
        "print('Maior......:', max(idades))\n",
        "print('Menor......:', min(idades))\n",
        "print('Média Idade:', sum(idades)/len(pessoas))\n",
        "print('Média Peso.:', sum(pesos)/len(pessoas))"
      ],
      "execution_count": null,
      "outputs": [
        {
          "output_type": "stream",
          "text": [
            "Maior......: 49\n",
            "Menor......: 18\n",
            "Média Idade: 31.25\n",
            "Média Peso.: 80.25\n"
          ],
          "name": "stdout"
        }
      ]
    },
    {
      "cell_type": "code",
      "metadata": {
        "id": "aSwaDblMvxCY",
        "colab_type": "code",
        "colab": {
          "base_uri": "https://localhost:8080/",
          "height": 34
        },
        "outputId": "4f8e2bd1-666e-493c-cf2d-967b277c9eed"
      },
      "source": [
        "#Exercicio 2 pt 2\n",
        "\n",
        "pessoas = [\n",
        "           ['Marcos',26],\n",
        "           ['Lais',28]\n",
        "]\n",
        "\n",
        "idades = []\n",
        "\n",
        "for pessoa in pessoas: # aqui começa o laço de repetição\n",
        "    idades.append(pessoa[1])\n",
        "\n",
        "print('O mais velho e tem',max(idades))\n",
        "    \n",
        "\n",
        "\n"
      ],
      "execution_count": null,
      "outputs": [
        {
          "output_type": "stream",
          "text": [
            "O mais velho e tem 28\n"
          ],
          "name": "stdout"
        }
      ]
    },
    {
      "cell_type": "code",
      "metadata": {
        "id": "_SAXXFkK36Pd",
        "colab_type": "code",
        "colab": {
          "base_uri": "https://localhost:8080/",
          "height": 50
        },
        "outputId": "3fae7968-2604-4e18-a1ba-e54a34751038"
      },
      "source": [
        "#Exercicio 2 pt 4 e 5\n",
        "\n",
        "pessoas = [\n",
        "           ['Kali',29],\n",
        "           ['Zendaya',68],\n",
        "           ['Tais',35]\n",
        "]\n",
        "\n",
        "idades = []\n",
        "\n",
        "for pessoa in pessoas: # aqui começa o laço de repetição\n",
        "    idades.append(pessoa[1])\n",
        "\n",
        "print('A mais velha e tem',max(idades))\n",
        "print('A mais nova e tem',min(idades))\n",
        "    \n",
        "    \n",
        "\n"
      ],
      "execution_count": null,
      "outputs": [
        {
          "output_type": "stream",
          "text": [
            "A mais velha e tem 68\n",
            "A mais nova e tem 29\n"
          ],
          "name": "stdout"
        }
      ]
    },
    {
      "cell_type": "code",
      "metadata": {
        "id": "lXNJnrAO4xWv",
        "colab_type": "code",
        "colab": {
          "base_uri": "https://localhost:8080/",
          "height": 101
        },
        "outputId": "1b1eb681-ff7a-49f9-efe9-19ad518982c7"
      },
      "source": [
        "#PT6\n",
        "\n",
        "produto1 = input('Digite o valor do primeiro prod,')\n",
        "produto2 = input('Digite o valor do segundo prod,')\n",
        "produto3 = input('Digite o valor do terceiro prod,')\n",
        "\n",
        "if produto1 < produto2 or produto1 < produto3:\n",
        "  print('O menor valor vai ser do',produto1)\n",
        "else:\n",
        "   if produto2 < produto1 or produto1 < produto3:\n",
        "       print('O menor valor vai ser do',produto2)\n",
        "if produto3 < produto1 or produto3 < produto2:\n",
        "      print('O menor valor vai ser do',produto3)\n"
      ],
      "execution_count": null,
      "outputs": [
        {
          "output_type": "stream",
          "text": [
            "Digite o valor do primeiro prod,45\n",
            "Digite o valor do segundo prod,30\n",
            "Digite o valor do terceiro prod,15\n",
            "O menor valor vai ser do 30\n",
            "O menor valor vai ser do 15\n"
          ],
          "name": "stdout"
        }
      ]
    }
  ]
}